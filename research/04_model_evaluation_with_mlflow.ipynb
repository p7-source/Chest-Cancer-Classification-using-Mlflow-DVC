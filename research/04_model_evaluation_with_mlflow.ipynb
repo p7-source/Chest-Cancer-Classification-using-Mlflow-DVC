{
 "cells": [
  {
   "cell_type": "code",
   "execution_count": 31,
   "metadata": {},
   "outputs": [],
   "source": [
    "import os"
   ]
  },
  {
   "cell_type": "code",
   "execution_count": 32,
   "metadata": {},
   "outputs": [
    {
     "data": {
      "text/plain": [
       "'c:\\\\Users\\\\prass\\\\OneDrive\\\\Desktop\\\\practise\\\\cancer_project\\\\Chest-Cancer-Classification-using-Mlflow-DVC'"
      ]
     },
     "execution_count": 32,
     "metadata": {},
     "output_type": "execute_result"
    }
   ],
   "source": [
    "%pwd"
   ]
  },
  {
   "cell_type": "code",
   "execution_count": 33,
   "metadata": {},
   "outputs": [],
   "source": [
    "os.chdir(\"c:\\\\Users\\\\prass\\\\OneDrive\\\\Desktop\\\\practise\\\\cancer_project\\\\Chest-Cancer-Classification-using-Mlflow-DVC\")"
   ]
  },
  {
   "cell_type": "code",
   "execution_count": 34,
   "metadata": {},
   "outputs": [
    {
     "data": {
      "text/plain": [
       "'c:\\\\Users\\\\prass\\\\OneDrive\\\\Desktop\\\\practise\\\\cancer_project\\\\Chest-Cancer-Classification-using-Mlflow-DVC'"
      ]
     },
     "execution_count": 34,
     "metadata": {},
     "output_type": "execute_result"
    }
   ],
   "source": [
    "%pwd"
   ]
  },
  {
   "cell_type": "code",
   "execution_count": 35,
   "metadata": {},
   "outputs": [],
   "source": [
    "from dataclasses import dataclass\n",
    "from pathlib import Path"
   ]
  },
  {
   "cell_type": "code",
   "execution_count": 36,
   "metadata": {},
   "outputs": [],
   "source": [
    "\n",
    "@dataclass(frozen=True)\n",
    "class EvaluationConfig:\n",
    "    path_of_model: Path\n",
    "    training_data: Path\n",
    "    all_params: dict\n",
    "    mlflow_uri: str\n",
    "    params_image_size: list\n",
    "    params_batch_size: int"
   ]
  },
  {
   "cell_type": "code",
   "execution_count": 26,
   "metadata": {},
   "outputs": [],
   "source": [
    "os.environ[\"MLFLOW_TRACKING_URI\"]=\"https://dagshub.com/p7-source/Chest-Cancer-Classification-using-Mlflow-DVC.mlflow\""
   ]
  },
  {
   "cell_type": "code",
   "execution_count": 37,
   "metadata": {},
   "outputs": [],
   "source": [
    "import tensorflow as tf"
   ]
  },
  {
   "cell_type": "code",
   "execution_count": 28,
   "metadata": {},
   "outputs": [],
   "source": [
    "from cnnClassifier.constants import *\n",
    "from cnnClassifier.utils.common import read_yaml, create_directories, save_json"
   ]
  },
  {
   "cell_type": "code",
   "execution_count": 38,
   "metadata": {},
   "outputs": [
    {
     "data": {
      "text/plain": [
       "'c:\\\\Users\\\\prass\\\\OneDrive\\\\Desktop\\\\practise\\\\cancer_project\\\\Chest-Cancer-Classification-using-Mlflow-DVC'"
      ]
     },
     "execution_count": 38,
     "metadata": {},
     "output_type": "execute_result"
    }
   ],
   "source": [
    "%pwd"
   ]
  },
  {
   "cell_type": "code",
   "execution_count": 39,
   "metadata": {},
   "outputs": [],
   "source": [
    "model = tf.keras.models.load_model(\"artifacts/training/model.h5\")"
   ]
  },
  {
   "cell_type": "code",
   "execution_count": 46,
   "metadata": {},
   "outputs": [],
   "source": [
    "class ConfigurationManager:\n",
    "    def __init__(\n",
    "        self, \n",
    "        config_filepath = CONFIG_FILE_PATH,\n",
    "        params_filepath = PARAMS_FILE_PATH):\n",
    "        self.config = read_yaml(config_filepath)\n",
    "        self.params = read_yaml(params_filepath)\n",
    "        create_directories([self.config.artifacts_root])\n",
    "\n",
    "    \n",
    "    def get_evaluation_config(self) -> EvaluationConfig:\n",
    "        eval_config = EvaluationConfig(\n",
    "            path_of_model=\"artifacts/training/model.h5\",\n",
    "            training_data=\"artifacts/data_ingestion/MLdata\",\n",
    "            mlflow_uri=\"https://dagshub.com/p7-source/Chest-Cancer-Classification-using-Mlflow-DVC.mlflow\",\n",
    "            all_params=self.params,\n",
    "            params_image_size=self.params.IMAGE_SIZE,\n",
    "            params_batch_size=self.params.BATCH_SIZE\n",
    "        )\n",
    "        return eval_config"
   ]
  },
  {
   "cell_type": "code",
   "execution_count": 59,
   "metadata": {},
   "outputs": [
    {
     "name": "stdout",
     "output_type": "stream",
     "text": [
      "Requirement already satisfied: dagshub in c:\\users\\prass\\onedrive\\desktop\\practise\\cancer_project\\cvenv\\lib\\site-packages (0.4.2)\n",
      "Requirement already satisfied: PyYAML>=5 in c:\\users\\prass\\onedrive\\desktop\\practise\\cancer_project\\cvenv\\lib\\site-packages (from dagshub) (6.0.2)\n",
      "Requirement already satisfied: appdirs>=1.4.4 in c:\\users\\prass\\onedrive\\desktop\\practise\\cancer_project\\cvenv\\lib\\site-packages (from dagshub) (1.4.4)\n",
      "Requirement already satisfied: click>=8.0.4 in c:\\users\\prass\\onedrive\\desktop\\practise\\cancer_project\\cvenv\\lib\\site-packages (from dagshub) (8.1.8)\n",
      "Requirement already satisfied: httpx>=0.23.0 in c:\\users\\prass\\onedrive\\desktop\\practise\\cancer_project\\cvenv\\lib\\site-packages (from dagshub) (0.27.0)\n",
      "Requirement already satisfied: GitPython>=3.1.29 in c:\\users\\prass\\onedrive\\desktop\\practise\\cancer_project\\cvenv\\lib\\site-packages (from dagshub) (3.1.43)\n",
      "Requirement already satisfied: rich>=13.1.0 in c:\\users\\prass\\onedrive\\desktop\\practise\\cancer_project\\cvenv\\lib\\site-packages (from dagshub) (13.9.4)\n",
      "Requirement already satisfied: dacite~=1.6.0 in c:\\users\\prass\\onedrive\\desktop\\practise\\cancer_project\\cvenv\\lib\\site-packages (from dagshub) (1.6.0)\n",
      "Requirement already satisfied: tenacity>=8.2.2 in c:\\users\\prass\\onedrive\\desktop\\practise\\cancer_project\\cvenv\\lib\\site-packages (from dagshub) (9.0.0)\n",
      "Requirement already satisfied: gql[requests] in c:\\users\\prass\\onedrive\\desktop\\practise\\cancer_project\\cvenv\\lib\\site-packages (from dagshub) (3.5.0)\n",
      "Requirement already satisfied: dataclasses-json in c:\\users\\prass\\onedrive\\desktop\\practise\\cancer_project\\cvenv\\lib\\site-packages (from dagshub) (0.6.7)\n",
      "Requirement already satisfied: pandas in c:\\users\\prass\\onedrive\\desktop\\practise\\cancer_project\\cvenv\\lib\\site-packages (from dagshub) (2.0.3)\n",
      "Requirement already satisfied: treelib>=1.6.4 in c:\\users\\prass\\onedrive\\desktop\\practise\\cancer_project\\cvenv\\lib\\site-packages (from dagshub) (1.7.0)\n",
      "Requirement already satisfied: pathvalidate>=3.0.0 in c:\\users\\prass\\onedrive\\desktop\\practise\\cancer_project\\cvenv\\lib\\site-packages (from dagshub) (3.2.1)\n",
      "Requirement already satisfied: python-dateutil in c:\\users\\prass\\onedrive\\desktop\\practise\\cancer_project\\cvenv\\lib\\site-packages (from dagshub) (2.9.0.post0)\n",
      "Requirement already satisfied: boto3 in c:\\users\\prass\\onedrive\\desktop\\practise\\cancer_project\\cvenv\\lib\\site-packages (from dagshub) (1.35.87)\n",
      "Requirement already satisfied: dagshub-annotation-converter>=0.1.0 in c:\\users\\prass\\onedrive\\desktop\\practise\\cancer_project\\cvenv\\lib\\site-packages (from dagshub) (0.1.2)\n",
      "Requirement already satisfied: colorama in c:\\users\\prass\\onedrive\\desktop\\practise\\cancer_project\\cvenv\\lib\\site-packages (from click>=8.0.4->dagshub) (0.4.6)\n",
      "Requirement already satisfied: lxml in c:\\users\\prass\\onedrive\\desktop\\practise\\cancer_project\\cvenv\\lib\\site-packages (from dagshub-annotation-converter>=0.1.0->dagshub) (5.3.0)\n",
      "Requirement already satisfied: pillow in c:\\users\\prass\\onedrive\\desktop\\practise\\cancer_project\\cvenv\\lib\\site-packages (from dagshub-annotation-converter>=0.1.0->dagshub) (10.4.0)\n",
      "Requirement already satisfied: pydantic>=2.0.0 in c:\\users\\prass\\onedrive\\desktop\\practise\\cancer_project\\cvenv\\lib\\site-packages (from dagshub-annotation-converter>=0.1.0->dagshub) (2.10.4)\n",
      "Requirement already satisfied: typing-extensions in c:\\users\\prass\\onedrive\\desktop\\practise\\cancer_project\\cvenv\\lib\\site-packages (from dagshub-annotation-converter>=0.1.0->dagshub) (4.12.2)\n",
      "Requirement already satisfied: gitdb<5,>=4.0.1 in c:\\users\\prass\\onedrive\\desktop\\practise\\cancer_project\\cvenv\\lib\\site-packages (from GitPython>=3.1.29->dagshub) (4.0.11)\n",
      "Requirement already satisfied: anyio in c:\\users\\prass\\onedrive\\desktop\\practise\\cancer_project\\cvenv\\lib\\site-packages (from httpx>=0.23.0->dagshub) (4.2.0)\n",
      "Requirement already satisfied: certifi in c:\\users\\prass\\onedrive\\desktop\\practise\\cancer_project\\cvenv\\lib\\site-packages (from httpx>=0.23.0->dagshub) (2024.8.30)\n",
      "Requirement already satisfied: httpcore==1.* in c:\\users\\prass\\onedrive\\desktop\\practise\\cancer_project\\cvenv\\lib\\site-packages (from httpx>=0.23.0->dagshub) (1.0.2)\n",
      "Requirement already satisfied: idna in c:\\users\\prass\\onedrive\\desktop\\practise\\cancer_project\\cvenv\\lib\\site-packages (from httpx>=0.23.0->dagshub) (3.7)\n",
      "Requirement already satisfied: sniffio in c:\\users\\prass\\onedrive\\desktop\\practise\\cancer_project\\cvenv\\lib\\site-packages (from httpx>=0.23.0->dagshub) (1.3.0)\n",
      "Requirement already satisfied: h11<0.15,>=0.13 in c:\\users\\prass\\onedrive\\desktop\\practise\\cancer_project\\cvenv\\lib\\site-packages (from httpcore==1.*->httpx>=0.23.0->dagshub) (0.14.0)\n",
      "Requirement already satisfied: markdown-it-py>=2.2.0 in c:\\users\\prass\\onedrive\\desktop\\practise\\cancer_project\\cvenv\\lib\\site-packages (from rich>=13.1.0->dagshub) (3.0.0)\n",
      "Requirement already satisfied: pygments<3.0.0,>=2.13.0 in c:\\users\\prass\\onedrive\\desktop\\practise\\cancer_project\\cvenv\\lib\\site-packages (from rich>=13.1.0->dagshub) (2.15.1)\n",
      "Requirement already satisfied: six in c:\\users\\prass\\onedrive\\desktop\\practise\\cancer_project\\cvenv\\lib\\site-packages (from treelib>=1.6.4->dagshub) (1.16.0)\n",
      "Requirement already satisfied: botocore<1.36.0,>=1.35.87 in c:\\users\\prass\\onedrive\\desktop\\practise\\cancer_project\\cvenv\\lib\\site-packages (from boto3->dagshub) (1.35.87)\n",
      "Requirement already satisfied: jmespath<2.0.0,>=0.7.1 in c:\\users\\prass\\onedrive\\desktop\\practise\\cancer_project\\cvenv\\lib\\site-packages (from boto3->dagshub) (1.0.1)\n",
      "Requirement already satisfied: s3transfer<0.11.0,>=0.10.0 in c:\\users\\prass\\onedrive\\desktop\\practise\\cancer_project\\cvenv\\lib\\site-packages (from boto3->dagshub) (0.10.4)\n",
      "Requirement already satisfied: marshmallow<4.0.0,>=3.18.0 in c:\\users\\prass\\onedrive\\desktop\\practise\\cancer_project\\cvenv\\lib\\site-packages (from dataclasses-json->dagshub) (3.22.0)\n",
      "Requirement already satisfied: typing-inspect<1,>=0.4.0 in c:\\users\\prass\\onedrive\\desktop\\practise\\cancer_project\\cvenv\\lib\\site-packages (from dataclasses-json->dagshub) (0.9.0)\n",
      "Requirement already satisfied: graphql-core<3.3,>=3.2 in c:\\users\\prass\\onedrive\\desktop\\practise\\cancer_project\\cvenv\\lib\\site-packages (from gql[requests]->dagshub) (3.2.5)\n",
      "Requirement already satisfied: yarl<2.0,>=1.6 in c:\\users\\prass\\onedrive\\desktop\\practise\\cancer_project\\cvenv\\lib\\site-packages (from gql[requests]->dagshub) (1.15.2)\n",
      "Requirement already satisfied: backoff<3.0,>=1.11.1 in c:\\users\\prass\\onedrive\\desktop\\practise\\cancer_project\\cvenv\\lib\\site-packages (from gql[requests]->dagshub) (2.2.1)\n",
      "Requirement already satisfied: requests<3,>=2.26 in c:\\users\\prass\\onedrive\\desktop\\practise\\cancer_project\\cvenv\\lib\\site-packages (from gql[requests]->dagshub) (2.32.3)\n",
      "Requirement already satisfied: requests-toolbelt<2,>=1.0.0 in c:\\users\\prass\\onedrive\\desktop\\practise\\cancer_project\\cvenv\\lib\\site-packages (from gql[requests]->dagshub) (1.0.0)\n",
      "Requirement already satisfied: pytz>=2020.1 in c:\\users\\prass\\onedrive\\desktop\\practise\\cancer_project\\cvenv\\lib\\site-packages (from pandas->dagshub) (2022.7.1)\n",
      "Requirement already satisfied: tzdata>=2022.1 in c:\\users\\prass\\onedrive\\desktop\\practise\\cancer_project\\cvenv\\lib\\site-packages (from pandas->dagshub) (2024.2)\n",
      "Requirement already satisfied: numpy>=1.20.3 in c:\\users\\prass\\onedrive\\desktop\\practise\\cancer_project\\cvenv\\lib\\site-packages (from pandas->dagshub) (1.23.5)\n",
      "Requirement already satisfied: exceptiongroup>=1.0.2 in c:\\users\\prass\\onedrive\\desktop\\practise\\cancer_project\\cvenv\\lib\\site-packages (from anyio->httpx>=0.23.0->dagshub) (1.2.0)\n",
      "Requirement already satisfied: urllib3<1.27,>=1.25.4 in c:\\users\\prass\\onedrive\\desktop\\practise\\cancer_project\\cvenv\\lib\\site-packages (from botocore<1.36.0,>=1.35.87->boto3->dagshub) (1.26.20)\n",
      "Requirement already satisfied: smmap<6,>=3.0.1 in c:\\users\\prass\\onedrive\\desktop\\practise\\cancer_project\\cvenv\\lib\\site-packages (from gitdb<5,>=4.0.1->GitPython>=3.1.29->dagshub) (5.0.1)\n",
      "Requirement already satisfied: mdurl~=0.1 in c:\\users\\prass\\onedrive\\desktop\\practise\\cancer_project\\cvenv\\lib\\site-packages (from markdown-it-py>=2.2.0->rich>=13.1.0->dagshub) (0.1.2)\n",
      "Requirement already satisfied: packaging>=17.0 in c:\\users\\prass\\onedrive\\desktop\\practise\\cancer_project\\cvenv\\lib\\site-packages (from marshmallow<4.0.0,>=3.18.0->dataclasses-json->dagshub) (23.2)\n",
      "Requirement already satisfied: annotated-types>=0.6.0 in c:\\users\\prass\\onedrive\\desktop\\practise\\cancer_project\\cvenv\\lib\\site-packages (from pydantic>=2.0.0->dagshub-annotation-converter>=0.1.0->dagshub) (0.7.0)\n",
      "Requirement already satisfied: pydantic-core==2.27.2 in c:\\users\\prass\\onedrive\\desktop\\practise\\cancer_project\\cvenv\\lib\\site-packages (from pydantic>=2.0.0->dagshub-annotation-converter>=0.1.0->dagshub) (2.27.2)\n",
      "Requirement already satisfied: charset-normalizer<4,>=2 in c:\\users\\prass\\onedrive\\desktop\\practise\\cancer_project\\cvenv\\lib\\site-packages (from requests<3,>=2.26->gql[requests]->dagshub) (3.3.2)\n",
      "Requirement already satisfied: mypy-extensions>=0.3.0 in c:\\users\\prass\\onedrive\\desktop\\practise\\cancer_project\\cvenv\\lib\\site-packages (from typing-inspect<1,>=0.4.0->dataclasses-json->dagshub) (1.0.0)\n",
      "Requirement already satisfied: multidict>=4.0 in c:\\users\\prass\\onedrive\\desktop\\practise\\cancer_project\\cvenv\\lib\\site-packages (from yarl<2.0,>=1.6->gql[requests]->dagshub) (6.1.0)\n",
      "Requirement already satisfied: propcache>=0.2.0 in c:\\users\\prass\\onedrive\\desktop\\practise\\cancer_project\\cvenv\\lib\\site-packages (from yarl<2.0,>=1.6->gql[requests]->dagshub) (0.2.0)\n",
      "Note: you may need to restart the kernel to use updated packages.\n"
     ]
    }
   ],
   "source": [
    "%pip install dagshub"
   ]
  },
  {
   "cell_type": "code",
   "execution_count": 60,
   "metadata": {},
   "outputs": [],
   "source": [
    "import tensorflow as tf\n",
    "from pathlib import Path\n",
    "import mlflow\n",
    "import mlflow.keras\n",
    "from urllib.parse import urlparse\n",
    "import dagshub"
   ]
  },
  {
   "cell_type": "code",
   "execution_count": 61,
   "metadata": {},
   "outputs": [],
   "source": [
    "class Evaluation:\n",
    "    def __init__(self, config: EvaluationConfig):\n",
    "        self.config = config\n",
    "\n",
    "    \n",
    "    def _valid_generator(self):\n",
    "\n",
    "        datagenerator_kwargs = dict(\n",
    "            rescale = 1./255,\n",
    "            validation_split=0.30\n",
    "        )\n",
    "\n",
    "        dataflow_kwargs = dict(\n",
    "            target_size=self.config.params_image_size[:-1],\n",
    "            batch_size=self.config.params_batch_size,\n",
    "            interpolation=\"bilinear\"\n",
    "        )\n",
    "\n",
    "        valid_datagenerator = tf.keras.preprocessing.image.ImageDataGenerator(\n",
    "            **datagenerator_kwargs\n",
    "        )\n",
    "\n",
    "        self.valid_generator = valid_datagenerator.flow_from_directory(\n",
    "            directory=self.config.training_data,\n",
    "            subset=\"validation\",\n",
    "            shuffle=False,\n",
    "            **dataflow_kwargs\n",
    "        )\n",
    "\n",
    "\n",
    "    @staticmethod\n",
    "    def load_model(path: Path) -> tf.keras.Model:\n",
    "        return tf.keras.models.load_model(path)\n",
    "    \n",
    "\n",
    "    def evaluation(self):\n",
    "        self.model = self.load_model(self.config.path_of_model)\n",
    "        self._valid_generator()\n",
    "        self.score = model.evaluate(self.valid_generator)\n",
    "        self.save_score()\n",
    "\n",
    "    def save_score(self):\n",
    "        scores = {\"loss\": self.score[0], \"accuracy\": self.score[1]}\n",
    "        save_json(path=Path(\"scores.json\"), data=scores)\n",
    "\n",
    "    \n",
    "    def log_into_mlflow(self):\n",
    "        mlflow.set_registry_uri(self.config.mlflow_uri)\n",
    "        tracking_url_type_store = urlparse(mlflow.get_tracking_uri()).scheme\n",
    "        \n",
    "        with mlflow.start_run():\n",
    "            mlflow.log_params(self.config.all_params)\n",
    "            mlflow.log_metrics(\n",
    "                {\"loss\": self.score[0], \"accuracy\": self.score[1]}\n",
    "            )\n",
    "            # Model registry does not work with file store\n",
    "            if tracking_url_type_store != \"file\":\n",
    "\n",
    "                # Register the model\n",
    "                # There are other ways to use the Model Registry, which depends on the use case,\n",
    "                # please refer to the doc for more information:\n",
    "                # https://mlflow.org/docs/latest/model-registry.html#api-workflow\n",
    "                mlflow.keras.log_model(self.model, \"model\", registered_model_name=\"VGG16Model\")\n",
    "            else:\n",
    "                mlflow.keras.log_model(self.model, \"model\")"
   ]
  },
  {
   "cell_type": "code",
   "execution_count": null,
   "metadata": {},
   "outputs": [],
   "source": []
  },
  {
   "cell_type": "code",
   "execution_count": 63,
   "metadata": {},
   "outputs": [
    {
     "name": "stdout",
     "output_type": "stream",
     "text": [
      "[2024-12-26 14:14:58,342: INFO: _client: HTTP Request: GET https://dagshub.com/api/v1/repos/p7-source/Chest-Cancer-Classification-using-Mlflow-DVC \"HTTP/1.1 200 OK\"]\n"
     ]
    },
    {
     "data": {
      "text/html": [
       "<pre style=\"white-space:pre;overflow-x:auto;line-height:normal;font-family:Menlo,'DejaVu Sans Mono',consolas,'Courier New',monospace\">Initialized MLflow to track repo <span style=\"color: #008000; text-decoration-color: #008000\">\"p7-source/Chest-Cancer-Classification-using-Mlflow-DVC\"</span>\n",
       "</pre>\n"
      ],
      "text/plain": [
       "Initialized MLflow to track repo \u001b[32m\"p7-source/Chest-Cancer-Classification-using-Mlflow-DVC\"\u001b[0m\n"
      ]
     },
     "metadata": {},
     "output_type": "display_data"
    },
    {
     "name": "stdout",
     "output_type": "stream",
     "text": [
      "[2024-12-26 14:14:58,414: INFO: helpers: Initialized MLflow to track repo \"p7-source/Chest-Cancer-Classification-using-Mlflow-DVC\"]\n"
     ]
    },
    {
     "data": {
      "text/html": [
       "<pre style=\"white-space:pre;overflow-x:auto;line-height:normal;font-family:Menlo,'DejaVu Sans Mono',consolas,'Courier New',monospace\">Repository p7-source/Chest-Cancer-Classification-using-Mlflow-DVC initialized!\n",
       "</pre>\n"
      ],
      "text/plain": [
       "Repository p7-source/Chest-Cancer-Classification-using-Mlflow-DVC initialized!\n"
      ]
     },
     "metadata": {},
     "output_type": "display_data"
    },
    {
     "name": "stdout",
     "output_type": "stream",
     "text": [
      "[2024-12-26 14:14:58,417: INFO: helpers: Repository p7-source/Chest-Cancer-Classification-using-Mlflow-DVC initialized!]\n",
      "[2024-12-26 14:14:58,444: INFO: common: yaml file: c:\\Users\\prass\\OneDrive\\Desktop\\practise\\cancer_project\\Chest-Cancer-Classification-using-Mlflow-DVC\\config\\config.yaml loaded successfully]\n",
      "[2024-12-26 14:14:58,463: INFO: common: yaml file: c:\\Users\\prass\\OneDrive\\Desktop\\practise\\cancer_project\\Chest-Cancer-Classification-using-Mlflow-DVC\\params.yaml loaded successfully]\n",
      "[2024-12-26 14:14:58,470: INFO: common: created directory at: artifacts]\n",
      "Found 52 images belonging to 2 classes.\n",
      "4/4 [==============================] - 7s 1s/step - loss: 0.1081 - accuracy: 0.9423\n",
      "[2024-12-26 14:15:06,843: INFO: common: json file saved at: scores.json]\n",
      "[2024-12-26 14:15:07,612: INFO: _client: HTTP Request: GET https://dagshub.com/api/v1/repos/p7-source/Chest-Cancer-Classification-using-Mlflow-DVC \"HTTP/1.1 200 OK\"]\n"
     ]
    },
    {
     "data": {
      "text/html": [
       "<pre style=\"white-space:pre;overflow-x:auto;line-height:normal;font-family:Menlo,'DejaVu Sans Mono',consolas,'Courier New',monospace\">Initialized MLflow to track repo <span style=\"color: #008000; text-decoration-color: #008000\">\"p7-source/Chest-Cancer-Classification-using-Mlflow-DVC\"</span>\n",
       "</pre>\n"
      ],
      "text/plain": [
       "Initialized MLflow to track repo \u001b[32m\"p7-source/Chest-Cancer-Classification-using-Mlflow-DVC\"\u001b[0m\n"
      ]
     },
     "metadata": {},
     "output_type": "display_data"
    },
    {
     "name": "stdout",
     "output_type": "stream",
     "text": [
      "[2024-12-26 14:15:07,621: INFO: helpers: Initialized MLflow to track repo \"p7-source/Chest-Cancer-Classification-using-Mlflow-DVC\"]\n"
     ]
    },
    {
     "data": {
      "text/html": [
       "<pre style=\"white-space:pre;overflow-x:auto;line-height:normal;font-family:Menlo,'DejaVu Sans Mono',consolas,'Courier New',monospace\">Repository p7-source/Chest-Cancer-Classification-using-Mlflow-DVC initialized!\n",
       "</pre>\n"
      ],
      "text/plain": [
       "Repository p7-source/Chest-Cancer-Classification-using-Mlflow-DVC initialized!\n"
      ]
     },
     "metadata": {},
     "output_type": "display_data"
    },
    {
     "name": "stdout",
     "output_type": "stream",
     "text": [
      "[2024-12-26 14:15:07,630: INFO: helpers: Repository p7-source/Chest-Cancer-Classification-using-Mlflow-DVC initialized!]\n"
     ]
    },
    {
     "name": "stderr",
     "output_type": "stream",
     "text": [
      "2024/12/26 14:15:08 WARNING mlflow.tensorflow: You are saving a TensorFlow Core model or Keras model without a signature. Inference with mlflow.pyfunc.spark_udf() will not work unless the model's pyfunc representation accepts pandas DataFrames as inference inputs.\n"
     ]
    },
    {
     "name": "stdout",
     "output_type": "stream",
     "text": [
      "[2024-12-26 14:15:09,799: WARNING: save: Found untraced functions such as _jit_compiled_convolution_op, _jit_compiled_convolution_op, _jit_compiled_convolution_op, _jit_compiled_convolution_op, _jit_compiled_convolution_op while saving (showing 5 of 14). These functions will not be directly callable after loading.]\n",
      "[2024-12-26 14:15:10,561: INFO: builder_impl: Assets written to: C:\\Users\\prass\\AppData\\Local\\Temp\\tmpp2xwmegf\\model\\data\\model\\assets]\n"
     ]
    },
    {
     "name": "stderr",
     "output_type": "stream",
     "text": [
      "Registered model 'VGG16Model' already exists. Creating a new version of this model...\n",
      "2024/12/26 14:16:05 INFO mlflow.tracking._model_registry.client: Waiting up to 300 seconds for model version to finish creation.                     Model name: VGG16Model, version 2\n",
      "Created version '2' of model 'VGG16Model'.\n"
     ]
    }
   ],
   "source": [
    "import dagshub\n",
    "dagshub.init(repo_owner='p7-source', repo_name='Chest-Cancer-Classification-using-Mlflow-DVC', mlflow=True)\n",
    "try:\n",
    "    config = ConfigurationManager()\n",
    "    eval_config = config.get_evaluation_config()\n",
    "    evaluation = Evaluation(eval_config)\n",
    "    evaluation.evaluation()\n",
    "    import dagshub\n",
    "    dagshub.init(repo_owner='p7-source', repo_name='Chest-Cancer-Classification-using-Mlflow-DVC', mlflow=True)\n",
    "    evaluation.log_into_mlflow()\n",
    "\n",
    "except Exception as e:\n",
    "   raise e"
   ]
  }
 ],
 "metadata": {
  "kernelspec": {
   "display_name": "Python 3",
   "language": "python",
   "name": "python3"
  },
  "language_info": {
   "codemirror_mode": {
    "name": "ipython",
    "version": 3
   },
   "file_extension": ".py",
   "mimetype": "text/x-python",
   "name": "python",
   "nbconvert_exporter": "python",
   "pygments_lexer": "ipython3",
   "version": "3.8.16"
  }
 },
 "nbformat": 4,
 "nbformat_minor": 2
}
