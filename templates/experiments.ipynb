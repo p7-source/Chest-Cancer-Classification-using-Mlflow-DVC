{
 "cells": [
  {
   "cell_type": "code",
   "execution_count": 1,
   "id": "5eea37ca-5b9a-4ced-bbb8-6bb381d37433",
   "metadata": {},
   "outputs": [
    {
     "ename": "ModuleNotFoundError",
     "evalue": "No module named 'src'",
     "output_type": "error",
     "traceback": [
      "\u001b[1;31m---------------------------------------------------------------------------\u001b[0m",
      "\u001b[1;31mModuleNotFoundError\u001b[0m                       Traceback (most recent call last)",
      "File \u001b[1;32m~\\OneDrive\\Desktop\\practise\\cancer_project\\Chest-Cancer-Classification-using-Mlflow-DVC\\templates\\main.py:1\u001b[0m\n\u001b[1;32m----> 1\u001b[0m \u001b[38;5;28;01mfrom\u001b[39;00m \u001b[38;5;21;01msrc\u001b[39;00m\u001b[38;5;21;01m.\u001b[39;00m\u001b[38;5;21;01mcnnClassifier\u001b[39;00m \u001b[38;5;28;01mimport\u001b[39;00m logger\n\u001b[0;32m      2\u001b[0m \u001b[38;5;28mprint\u001b[39m(\u001b[38;5;124m\"\u001b[39m\u001b[38;5;124mthe logger is working\u001b[39m\u001b[38;5;124m\"\u001b[39m)\n\u001b[0;32m      3\u001b[0m logger\u001b[38;5;241m.\u001b[39minfo(\u001b[38;5;124m\"\u001b[39m\u001b[38;5;124mWelcome to the cnnClassifier!\u001b[39m\u001b[38;5;124m\"\u001b[39m)\n",
      "\u001b[1;31mModuleNotFoundError\u001b[0m: No module named 'src'"
     ]
    }
   ],
   "source": [
    "%run main.py"
   ]
  },
  {
   "cell_type": "code",
   "execution_count": 2,
   "id": "3fa1c01f-8e3a-407b-a8cd-db4e0525f9a4",
   "metadata": {},
   "outputs": [],
   "source": [
    "url = \"https://drive.google.com/file/d/1mGJgBk2kOCyWE_Xey5Xcmy3BzeXYNKzU/view?usp=sharing\""
   ]
  },
  {
   "cell_type": "code",
   "execution_count": 3,
   "id": "3642a4f4",
   "metadata": {},
   "outputs": [
    {
     "data": {
      "text/plain": [
       "'https://drive.google.com/file/d/1mGJgBk2kOCyWE_Xey5Xcmy3BzeXYNKzU/view?usp=sharing'"
      ]
     },
     "execution_count": 3,
     "metadata": {},
     "output_type": "execute_result"
    }
   ],
   "source": [
    "url"
   ]
  },
  {
   "cell_type": "code",
   "execution_count": 4,
   "id": "59099509",
   "metadata": {},
   "outputs": [],
   "source": [
    "parse = url.split(\"/\")"
   ]
  },
  {
   "cell_type": "code",
   "execution_count": 15,
   "id": "65f77570",
   "metadata": {},
   "outputs": [],
   "source": [
    "id = parse[5]"
   ]
  },
  {
   "cell_type": "code",
   "execution_count": 7,
   "id": "e1059f1b",
   "metadata": {},
   "outputs": [],
   "source": [
    "import gdown"
   ]
  },
  {
   "cell_type": "code",
   "execution_count": 12,
   "id": "931bc2bb",
   "metadata": {},
   "outputs": [],
   "source": [
    "prefix = url[0:32]"
   ]
  },
  {
   "cell_type": "code",
   "execution_count": 14,
   "id": "c3a2f888",
   "metadata": {},
   "outputs": [
    {
     "data": {
      "text/plain": [
       "'https://drive.google.com/file/d/'"
      ]
     },
     "execution_count": 14,
     "metadata": {},
     "output_type": "execute_result"
    }
   ],
   "source": [
    "prefix"
   ]
  },
  {
   "cell_type": "code",
   "execution_count": 16,
   "id": "79c69ad2",
   "metadata": {},
   "outputs": [
    {
     "data": {
      "text/plain": [
       "'1mGJgBk2kOCyWE_Xey5Xcmy3BzeXYNKzU'"
      ]
     },
     "execution_count": 16,
     "metadata": {},
     "output_type": "execute_result"
    }
   ],
   "source": [
    "prefix = 'https://drive.google.com/uc?/export=download&id='\n",
    "id"
   ]
  },
  {
   "cell_type": "code",
   "execution_count": 17,
   "id": "f5ca17b8",
   "metadata": {},
   "outputs": [],
   "source": [
    "import gdown"
   ]
  },
  {
   "cell_type": "code",
   "execution_count": 25,
   "id": "cb27d988",
   "metadata": {},
   "outputs": [
    {
     "name": "stderr",
     "output_type": "stream",
     "text": [
      "Downloading...\n",
      "From (original): https://drive.google.com/uc?/export=download&id=1mGJgBk2kOCyWE_Xey5Xcmy3BzeXYNKzU\n",
      "From (redirected): https://drive.google.com/uc?%2Fexport=download&id=1mGJgBk2kOCyWE_Xey5Xcmy3BzeXYNKzU&confirm=t&uuid=05af2efa-0b30-4362-b804-9d5d6a74403d\n",
      "To: c:\\Users\\prass\\OneDrive\\Desktop\\practise\\cancer_project\\Chest-Cancer-Classification-using-Mlflow-DVC\\research\\ct-scan-data.zip\n",
      "100%|██████████| 28.8M/28.8M [00:02<00:00, 13.0MB/s]\n"
     ]
    },
    {
     "data": {
      "text/plain": [
       "'ct-scan-data.zip'"
      ]
     },
     "execution_count": 25,
     "metadata": {},
     "output_type": "execute_result"
    }
   ],
   "source": [
    "gdown.download(prefix+id, 'ct-scan-data.zip')"
   ]
  },
  {
   "cell_type": "code",
   "execution_count": 24,
   "id": "2b80d544",
   "metadata": {},
   "outputs": [
    {
     "data": {
      "text/plain": [
       "'c:\\\\Users\\\\prass\\\\OneDrive\\\\Desktop\\\\practise\\\\cancer_project\\\\Chest-Cancer-Classification-using-Mlflow-DVC\\\\research'"
      ]
     },
     "execution_count": 24,
     "metadata": {},
     "output_type": "execute_result"
    }
   ],
   "source": [
    "%pwd"
   ]
  },
  {
   "cell_type": "code",
   "execution_count": 23,
   "id": "eea667b4",
   "metadata": {},
   "outputs": [],
   "source": [
    "import os\n",
    "os.chdir(\"c:\\\\Users\\\\prass\\\\OneDrive\\\\Desktop\\\\practise\\\\cancer_project\\\\Chest-Cancer-Classification-using-Mlflow-DVC\\\\research\")"
   ]
  },
  {
   "cell_type": "code",
   "execution_count": null,
   "id": "694df120",
   "metadata": {},
   "outputs": [],
   "source": []
  }
 ],
 "metadata": {
  "kernelspec": {
   "display_name": "Python 3",
   "language": "python",
   "name": "python3"
  },
  "language_info": {
   "codemirror_mode": {
    "name": "ipython",
    "version": 3
   },
   "file_extension": ".py",
   "mimetype": "text/x-python",
   "name": "python",
   "nbconvert_exporter": "python",
   "pygments_lexer": "ipython3",
   "version": "3.8.16"
  }
 },
 "nbformat": 4,
 "nbformat_minor": 5
}
